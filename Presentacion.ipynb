{
 "cells": [
  {
   "attachments": {},
   "cell_type": "markdown",
   "metadata": {},
   "source": [
    "<center><img src=\"https://iispi.com.ar/wp-content/themes/iispi/img/logosfooter-05.png\" width=\"600\"><img src=\"https://encrypted-tbn0.gstatic.com/images?q=tbn:ANd9GcSyQ946reluo38hvW_laUQJasxSZ3hQGVvytmH3KDWHoEEmBKQKw3FNatXU16cHq4a0eCo&usqp=CAU\" width=\"200\"> \n",
    "\n",
    "<h1 style='text-align: center;'><font size= '5'>Machine Learning e Imágenes en Python (2022)</h1></font> \n",
    "\n",
    "# <center> Automatización del conteo de unidades formadoras de colonias bacterianas\n",
    "\n",
    "<h1 style='text-align: left;'><font size= '4'>· Benelli Federico</h1></font> \n",
    "<h1 style='text-align: left;'><font size= '4'>· Rovezzi Juan Pablo</h1></font> \n",
    "<h1 style='text-align: center;'><font size= '2'>Dra. Valeria Rulloni - Dra. Ana Carolina Maldonado</h1></font> "
   ]
  },
  {
   "attachments": {},
   "cell_type": "markdown",
   "metadata": {},
   "source": [
    "--------"
   ]
  },
  {
   "attachments": {},
   "cell_type": "markdown",
   "metadata": {},
   "source": [
    "# Introducción\n",
    "Sobre esta temática hay que responder algunos interrogantes...\n",
    "- ¿Qué es el conteo de unidades formadoras de colonias bacterianas (UFC/CFU)?\n",
    "- ¿En qué consiste?\n",
    "- ¿Cómo podemos mejorar la técnica?\n",
    "\n",
    "<center><img src=\"Material/IA_petri.png\" width=\"200\"><img src=\"Material/IA_petriwbacteria.png\" width=\"200\">\n",
    "<center><img src=\"Material/IA_petrirobot.png\" width=\"200\"><img src=\"Material/IA_robotidea.png\" width=\"200\">\n",
    "\n"
   ]
  },
  {
   "attachments": {},
   "cell_type": "markdown",
   "metadata": {},
   "source": [
    "----"
   ]
  },
  {
   "attachments": {},
   "cell_type": "markdown",
   "metadata": {},
   "source": [
    "<h1 style='text-align: left;'><font size= '6'>Objetivo:</h1></font> \n",
    "<h1 style='text-align: left;'><font size= '4'>Diseñar una herramienta de cuantificacion de UFC a partir de fotografias tomadas en plano cenital de capsulas de petri sobre superficies de algun color sólido con el fin de aplicar los conocimientos enseñados y herramientas adquiridas en este curso.</h1></font> \n",
    "\n",
    "\n",
    "<center><img src=\"real2/input.jpg\" width=\"150\"><img src=\"Material/IA_right.png\" width=\"150\"><img src=\"Material/IA_robotgears.png\" width=\"150\"><img src=\"Material/IA_right.png\" width=\"150\"><img src=\"Material/IA_glass.png\" width=\"150\">"
   ]
  },
  {
   "attachments": {},
   "cell_type": "markdown",
   "metadata": {},
   "source": [
    "----"
   ]
  },
  {
   "attachments": {},
   "cell_type": "markdown",
   "metadata": {},
   "source": [
    "# Metodología\n",
    "<img src=\"Material/Petri-A.jpg\" width=\"200\"><img src=\"Material/Petri-B.jpg\" width=\"200\"><img src=\"Material/Petri-C.jpg\" width=\"150\">\n",
    " \n",
    "<h1 style='text-align: left;'><font size= '4'>Para realizar el conteo de UFCs de una manera automatizada se utilizó un enfoque de entrenamiento semi- supervisado, utilizando un modelo K-Nearest Neighbors (KNN). La implementación fue realizada en Python, con soporte de las librerías opencv, matplotlib, pandas, numpy y sklearn.\n",
    "Para llevarlo a cabo se requirieron 3 etapas:</h1></font> \n",
    "\n",
    "- Carga de imagen y preprocesamiento\n",
    "- Entrenamiento de modelo y categorización de datos\n",
    "- Conteo de UFCs\n",
    "\n",
    "\n",
    "<center><img src=\"Material/IA_robotfunny.png\" width=\"200\"> "
   ]
  },
  {
   "attachments": {},
   "cell_type": "markdown",
   "metadata": {},
   "source": [
    "----"
   ]
  },
  {
   "cell_type": "markdown",
   "metadata": {
    "id": "gtxKpdf4TDIF"
   },
   "source": [
    "## Librerias"
   ]
  },
  {
   "cell_type": "code",
   "execution_count": 1,
   "metadata": {
    "id": "Y1NYg0kHPVMr"
   },
   "outputs": [],
   "source": [
    "# Numpy para calculo vectorial\n",
    "import numpy as np\n",
    "import math\n",
    "# cv2 para trabajar con imagenes\n",
    "import cv2\n",
    "\n",
    "# matplotlib para graficar\n",
    "import matplotlib.pyplot as plt\n",
    "import matplotlib.patches as mpatches\n",
    "from mpl_toolkits.mplot3d import Axes3D\n",
    "\n",
    "# Pandas para manipular datos\n",
    "import pandas as pd\n",
    "\n",
    "# sklearn para machine learning\n",
    "from sklearn.neighbors import KNeighborsClassifier\n",
    "from sklearn.cluster import KMeans\n",
    "from sklearn.cluster import BisectingKMeans\n",
    "from sklearn.neighbors import KNeighborsClassifier\n",
    "from sklearn import preprocessing, decomposition\n",
    "# \n",
    "from IPython.display import clear_output \n",
    "from collections import Counter\n",
    "from ipywidgets import interact, widgets\n",
    "\n",
    "# Nuestra propia libreria de funciones\n",
    "from Modulos.funciones import *\n",
    "\n",
    "# Parametros por defecto de matplotlib\n",
    "plt.rcParams['figure.figsize'] = [5, 5]"
   ]
  },
  {
   "attachments": {},
   "cell_type": "markdown",
   "metadata": {
    "id": "SQw1p7mdcmnB"
   },
   "source": [
    "## Funciones"
   ]
  },
  {
   "cell_type": "code",
   "execution_count": 2,
   "metadata": {},
   "outputs": [],
   "source": [
    "def gen_df(image):\n",
    "    \"\"\"\n",
    "    Generar df de una imagen BGR o Grayscale\n",
    "    \"\"\"\n",
    "    \n",
    "    shape = image.shape\n",
    "    if len(shape) == 3:\n",
    "      ny, nx, _ = shape\n",
    "      ncols = 5\n",
    "    elif len(shape) == 2:\n",
    "      ny, nx = shape\n",
    "      ncols = 3\n",
    "\n",
    "    npix = ny*nx\n",
    "    data = np.zeros([npix, ncols], dtype=\"int\")\n",
    "    ind = np.indices((ny, nx))\n",
    "\n",
    "    data[:, 0] = ind[0].flatten() #filas\n",
    "    data[:, 1] = ind[1].flatten() #columnas\n",
    "\n",
    "    data[:, 2] = image[:, :, 0].flatten() #rojo\n",
    "    data[:, 3] = image[:, :, 1].flatten() # verde\n",
    "    data[:, 4] = image[:, :, 2].flatten() # azul\n",
    "\n",
    "    df = pd.DataFrame(data, columns=[\"fila\", \"columna\", \"b\", \"g\", \"r\"])\n",
    "    \n",
    "    return df\n",
    "\n",
    "def crop_limits(img):\n",
    "  \"\"\"Recibe una imagen, espera a la seleccion de los puntos de interes\n",
    "  y extrae la capsula de petri\n",
    "  \"\"\"\n",
    "  def click_event(event, x, y, flags, params):\n",
    "     if event == cv2.EVENT_LBUTTONDOWN:\n",
    "        print(f'({x},{y})')\n",
    "\n",
    "        # put coordinates as text on the image\n",
    "        cv2.putText(img_copy, f'({x},{y})',(x,y),\n",
    "        cv2.FONT_HERSHEY_SIMPLEX, 1, (0, 0, 255), 2)\n",
    "\n",
    "        # draw point on the image\n",
    "        cv2.circle(img_copy, (x,y), 3, (0,255,255), -1)\n",
    "\n",
    "        COORDS.append((x,y))\n",
    "  \n",
    "  COORDS = []\n",
    "\n",
    "  # Copy the image to show and don't modify the original one\n",
    "  img_copy = img.copy()\n",
    "\n",
    "  # create a window\n",
    "  cv2.namedWindow('Point Coordinates')\n",
    "\n",
    "  # bind the callback function to window\n",
    "  cv2.setMouseCallback('Point Coordinates', click_event)\n",
    "\n",
    "  # display the image\n",
    "  coords = []\n",
    "  while True:\n",
    "     cv2.imshow('Point Coordinates', img)\n",
    "     k = cv2.waitKey(1) & 0xFF\n",
    "     if len(COORDS) == 2:\n",
    "      break\n",
    "\n",
    "def mkcircle(image):\n",
    "  \"\"\"Borrar imagen fuera del circulo.\n",
    "\n",
    "  Toma una imagen de un rectángulo y, asumiendo\n",
    "  que los bordes de la imagen son tangentes al\n",
    "  círculo, vuelve totalmente blancas las zonas\n",
    "  externas al círculo.\n",
    "\n",
    "  image: imagen cv2 (numpy array de tres dimensiones)\n",
    "    Imagen a recortar\n",
    "  \"\"\"\n",
    "  height = image.shape[0]\n",
    "  width = image.shape[1]\n",
    "  y_offset = 0\n",
    "  x_offset = 0\n",
    "  offset = -30\n",
    "  for y in range(height):\n",
    "    for x in range(width):\n",
    "      if (\n",
    "          (x - width/2 +x_offset) * (x - width/2 +x_offset) \n",
    "          + (y - height/2 +y_offset) * (y-height/2 +y_offset) \n",
    "          >= (height/2 + offset) * (height/2 +offset)\n",
    "          ):\n",
    "        \n",
    "        image[y, x, 0] = 0\n",
    "        image[y, x, 1] = 0\n",
    "        image[y, x, 2] = 0\n",
    "  return image\n",
    "\n",
    "def mkcircle_petri(offset,background):\n",
    "  \"\"\"Borrar imagen fuera del circulo.\n",
    "\n",
    "  Toma una imagen de un rectángulo y, asumiendo\n",
    "  que los bordes de la imagen son tangentes al\n",
    "  círculo, vuelve totalmente blancas las zonas\n",
    "  externas al círculo.\n",
    "\n",
    "  image: imagen cv2 (numpy array de tres dimensiones)\n",
    "    Imagen a recortar\n",
    "  \"\"\"\n",
    "  #image = petri\n",
    "  #global petri\n",
    "  height = petri.shape[0]\n",
    "  width = petri.shape[1]\n",
    "  for y in range(height):\n",
    "    for x in range(width):\n",
    "      if (\n",
    "          (x - width/2) * (x - width/2) \n",
    "          + (y - height/2) * (y-height/2) \n",
    "          >= (height/2 - offset/10) * (height/2 -offset/10)\n",
    "          ):\n",
    "        \n",
    "        petri[y, x, 0] = background\n",
    "        petri[y, x, 1] = background\n",
    "        petri[y, x, 2] = background\n",
    "  plt.imshow(petri)\n",
    "  \n",
    "  #return petri\n",
    "  return None\n",
    "\n",
    "def blob_finder(image):\n",
    "  \"\"\"\n",
    "  Esta funcion no se usa, la deje por las dudas. Se supone que puede\n",
    "  identificar figuras genericas aisladas\n",
    "  \"\"\"\n",
    "  # Set our filtering parameters\n",
    "  # Initialize parameter setting using cv2.SimpleBlobDetector\n",
    "  params = cv2.SimpleBlobDetector_Params()\n",
    "  \n",
    "  # Set Area filtering parameters\n",
    "  params.filterByArea = False\n",
    "  params.minArea = 10\n",
    "  \n",
    "  # Set Circularity filtering parameters\n",
    "  params.filterByCircularity = True\n",
    "  params.minCircularity = 0.9\n",
    "  \n",
    "  # Set Convexity filtering parameters\n",
    "  params.filterByConvexity = False\n",
    "  params.minConvexity = 0.2\n",
    "  \n",
    "  # Set inertia filtering parameters\n",
    "  params.filterByInertia = True\n",
    "  params.minInertiaRatio = 0.8\n",
    "  \n",
    "  # Create a detector with the parameters\n",
    "  detector = cv2.SimpleBlobDetector_create(params)\n",
    "  \n",
    "  # Detect blobs\n",
    "  keypoints = detector.detect(\n",
    "    np.array(image, dtype=\"uint8\")\n",
    "  )\n",
    "  \n",
    "  # Draw blobs on our image as red circles\n",
    "  blank = np.zeros((1, 1))\n",
    "  blobs = cv2.drawKeypoints(\n",
    "    image, keypoints, blank, (0, 0, 255),\n",
    "    cv2.DRAW_MATCHES_FLAGS_DRAW_RICH_KEYPOINTS\n",
    "  )\n",
    "\n",
    "  return blobs\n",
    "\n",
    "def get_area(image, msg):\n",
    "  r = cv2.selectROI(msg, image)\n",
    "\n",
    "  # Crop image\n",
    "  img = image[\n",
    "      int(r[1]):int(r[1]+r[3]),\n",
    "      int(r[0]):int(r[0]+r[2])\n",
    "  ]\n",
    "\n",
    "  return img, r\n",
    "\n",
    "def set_threshold(thresh_min, thresh_max):\n",
    "  global thresh_min_out \n",
    "  global thresh_max_out\n",
    "  #global desired_colony \n",
    "  # Binarizar colonia deseada y entrenar kmeans\n",
    "  desired_gray = cv2.cvtColor(desired_colony, cv2.COLOR_BGR2GRAY)\n",
    "  desired_bin = (\n",
    "      (desired_gray > thresh_min) & (desired_gray < thresh_max)\n",
    "  ) * 1\n",
    "  thresh_min_out = thresh_min\n",
    "  thresh_max_out  = thresh_max\n",
    "  plt.imshow(desired_bin)\n",
    "  plt.colorbar()\n",
    "  plt.imshow(desired_colony, alpha=0.7)\n",
    "  return thresh_min, thresh_max\n",
    "\n",
    "def get_imgtocount(img):\n",
    "    # Verificacion si se tiene un recuadro blanco y si se debe pintar de negro:\n",
    "    countx = 0\n",
    "    county = 0\n",
    "    for k in list(range(0,img.shape[1]-1)):\n",
    "        if (img[int(img.shape[0]/2),k] == 255):\n",
    "            countx+=1\n",
    "        else: break\n",
    "    for j in list(range(0,img.shape[0]-1)):\n",
    "        if (img[j,int(img.shape[1]/2)] == 255):\n",
    "            county+=1\n",
    "        else: break\n",
    "\n",
    "    if countx <=10:\n",
    "        for m in list(range(0,img.shape[0]-1)):\n",
    "            img[m,:10] = 0\n",
    "            img[m,-10:] = 0\n",
    "        for n in list(range(0,img.shape[1]-1)):\n",
    "            img[:10,n] = 0\n",
    "            img[-10:,n] = 0\n",
    "\n",
    "    # Inversion de colores (blanco a negro y negro a blanco):\n",
    "    for r in list(range(0,img.shape[1]-1)):\n",
    "        for s in list(range(0,img.shape[0]-1)):\n",
    "            if (img[s,r] == 255):\n",
    "                img[s,r] = 0\n",
    "            else:\n",
    "                img[s,r] = 255\n",
    "    return img"
   ]
  },
  {
   "attachments": {},
   "cell_type": "markdown",
   "metadata": {
    "id": "xRdpwU13qTIB"
   },
   "source": [
    "# Carga de imágen a analizar y preprocesamiento\n",
    "<center> <img src=\"Material/IA_robotbox.png\" width=\"200\">\n",
    "\n",
    "<h1 style='text-align: left;'><font size= '4'>Partiendo de una imagen, se selecciona un área que representa específicamente a la cápsula de petri, una vez seleccionada se extrae además una subárea correspondiente a una serie de colonias que se desea contabilizar. Posteriormente se realiza un recorte del área exterior a la cápsula, con el fin de facilitar la categorización posterior al tener una imagen más limpia.</h1></font> \n",
    "\n",
    "<center> <img src=\"Material/figura1.jpg\" width=\"240\"><img src=\"Material/figura2.jpg\" width=\"500\">\n",
    "<center> <img src=\"real3/input.jpg\" width=\"240\"><img src=\"Material/real3_f2.png\" width=\"500\">\n",
    "<center> <img src=\"real2/input.jpg\" width=\"240\"><img src=\"Material/real2_fig2.png\" width=\"500\">\n",
    "\n"
   ]
  },
  {
   "attachments": {},
   "cell_type": "markdown",
   "metadata": {},
   "source": [
    "----"
   ]
  },
  {
   "cell_type": "code",
   "execution_count": 3,
   "metadata": {
    "colab": {
     "base_uri": "https://localhost:8080/",
     "height": 223
    },
    "id": "bJhTCD9a7DkN",
    "outputId": "72eb62c3-a554-47ff-af2a-767c7b6b6a8f"
   },
   "outputs": [
    {
     "name": "stdout",
     "output_type": "stream",
     "text": [
      "Resolucion inicial: (1024, 1024, 3)\n",
      "Resolucion resultante: (400, 400, 3)\n",
      "La imagen es almacenada como: <class 'numpy.ndarray'>\n",
      "Y los datos cargados dentro son: <class 'numpy.uint8'>\n"
     ]
    }
   ],
   "source": [
    "input_path = \"Ejemplo/input.jpg\"\n",
    "image = cv2.imread(input_path)\n",
    "\n",
    "print(\"Resolucion inicial:\",image.shape)\n",
    "\n",
    "if image.shape >= (400,400,3):\n",
    "    # Reducir el tamaño de imagen para agilizar el proceso\n",
    "    image = cv2.resize(image,(400,400)) \n",
    "\n",
    "print(\"Resolucion resultante:\",image.shape)\n",
    "\n",
    "print(\"La imagen es almacenada como:\", type(image))\n",
    "print(\"Y los datos cargados dentro son:\", type(image[0,0,0]))"
   ]
  },
  {
   "attachments": {},
   "cell_type": "markdown",
   "metadata": {},
   "source": [
    "----"
   ]
  },
  {
   "cell_type": "code",
   "execution_count": 4,
   "metadata": {},
   "outputs": [
    {
     "name": "stdout",
     "output_type": "stream",
     "text": [
      "Select a ROI and then press SPACE or ENTER button!\n",
      "Cancel the selection process by pressing c button!\n",
      "Select a ROI and then press SPACE or ENTER button!\n",
      "Cancel the selection process by pressing c button!\n"
     ]
    }
   ],
   "source": [
    "# Selección de cápsula de petri\n",
    "petri, petri_range = get_area(image, \"Select Petri\")\n",
    "cv2.destroyWindow('Select Petri')\n",
    "\n",
    "# Selección de colonia para etiquetar\n",
    "desired_colony, colony_range = get_area(image, \"Select Colony\")\n",
    "cv2.destroyWindow('Select Colony')\n",
    "\n",
    "ny, nx, _ = petri.shape\n",
    "# Guardado de imagenes en otra parte, para tener acceso ante cualquier\n",
    "# eventualidad\n",
    "cv2.imwrite(\"tmp_petri.jpg\", petri)\n",
    "cv2.imwrite(\"tmp_desired_colony.jpg\", desired_colony)\n",
    "\n",
    "# Conversión de imagen BGR a RGB\n",
    "petri = cv2.cvtColor(petri, cv2.COLOR_BGR2RGB)\n",
    "desired_colony = cv2.cvtColor(desired_colony, cv2.COLOR_BGR2RGB)\n",
    "gray_petri = cv2.cvtColor(petri, cv2.COLOR_BGR2GRAY)\n",
    "\n",
    "# Generación de DataFrames con las imágenes\n",
    "df_petri = gen_df(petri)\n",
    "df_desired = gen_df(desired_colony)"
   ]
  },
  {
   "attachments": {},
   "cell_type": "markdown",
   "metadata": {},
   "source": [
    "----"
   ]
  },
  {
   "cell_type": "code",
   "execution_count": 5,
   "metadata": {},
   "outputs": [
    {
     "data": {
      "application/vnd.jupyter.widget-view+json": {
       "model_id": "0950078db23f4f48b603c12211c95fb3",
       "version_major": 2,
       "version_minor": 0
      },
      "text/plain": [
       "interactive(children=(IntSlider(value=-798, description='offset', layout=Layout(width='500px'), max=798, min=-…"
      ]
     },
     "metadata": {},
     "output_type": "display_data"
    },
    {
     "data": {
      "text/plain": [
       "<function __main__.mkcircle_petri(offset, background)>"
      ]
     },
     "execution_count": 5,
     "metadata": {},
     "output_type": "execute_result"
    }
   ],
   "source": [
    "#Recortar exterior\n",
    "interact(\n",
    "    mkcircle_petri,\n",
    "    offset=widgets.IntSlider(\n",
    "        min=-petri.shape[0]*2,\n",
    "        max=petri.shape[0]*2,\n",
    "        step=1,\n",
    "        value=-petri.shape[0]*10,\n",
    "        layout=widgets.Layout(width='500px')\n",
    "    ),\n",
    "    background=widgets.IntSlider(\n",
    "        min=0, \n",
    "        max=255,\n",
    "        step=255, value=0,layout=widgets.Layout(width='200px')),\n",
    "    dish = petri,\n",
    ")"
   ]
  },
  {
   "attachments": {},
   "cell_type": "markdown",
   "metadata": {},
   "source": [
    "----"
   ]
  },
  {
   "cell_type": "code",
   "execution_count": 14,
   "metadata": {},
   "outputs": [
    {
     "data": {
      "text/plain": [
       "<matplotlib.image.AxesImage at 0x7ff6bbf311e0>"
      ]
     },
     "execution_count": 14,
     "metadata": {},
     "output_type": "execute_result"
    },
    {
     "data": {
      "image/png": "[encoded data removed]",
      "text/plain": [
       "<Figure size 1000x500 with 2 Axes>"
      ]
     },
     "metadata": {},
     "output_type": "display_data"
    }
   ],
   "source": [
    "fig, ax = plt.subplots(nrows=1, ncols=2, figsize=(10, 5))\n",
    "\n",
    "ax[0].imshow(petri)\n",
    "ax[1].imshow(desired_colony)"
   ]
  },
  {
   "attachments": {},
   "cell_type": "markdown",
   "metadata": {},
   "source": [
    "----"
   ]
  },
  {
   "attachments": {},
   "cell_type": "markdown",
   "metadata": {},
   "source": [
    "# Entrenamiento de modelo y categorización de datos\n",
    "<h1 style='text-align: left;'><font size= '6'>¿Cómo continuar?</h1></font> \n",
    "\n",
    "- ### Binarización, establecimiento de un umbral y etiquetado de colonia de interés\n",
    "<center> <img src=\"Material/umbral1.jpg\" width=\"212\"><img src=\"Material/umbral2.jpg\" width=\"200\"><img src=\"Material/binarizado.jpg\" width=\"265\">\n",
    "<center> <img src=\"Material/real2_antes.png\" width=\"212\"><img src=\"Material/real2_umbral.png\" width=\"225\"><img src=\"Material/real2_bin.png\" width=\"245\">\n",
    "<center> <img src=\"Material/IA_robotbw.png\" width=\"200\">>"
   ]
  },
  {
   "attachments": {},
   "cell_type": "markdown",
   "metadata": {},
   "source": [
    "----"
   ]
  },
  {
   "cell_type": "code",
   "execution_count": 15,
   "metadata": {},
   "outputs": [
    {
     "data": {
      "application/vnd.jupyter.widget-view+json": {
       "model_id": "3531dae4d2b3494a8c0ccb88f8cde9ca",
       "version_major": 2,
       "version_minor": 0
      },
      "text/plain": [
       "interactive(children=(IntSlider(value=0, description='thresh_min', max=255), IntSlider(value=0, description='t…"
      ]
     },
     "metadata": {},
     "output_type": "display_data"
    },
    {
     "data": {
      "text/plain": [
       "<function __main__.set_threshold(thresh_min, thresh_max)>"
      ]
     },
     "execution_count": 15,
     "metadata": {},
     "output_type": "execute_result"
    }
   ],
   "source": [
    "# Obtención \n",
    "interact(\n",
    "    set_threshold,\n",
    "    thresh_min=widgets.IntSlider(min=0, max=255, step=1, value=0),\n",
    "    thresh_max=widgets.IntSlider(min=0, max=255, step=1, value=0)\n",
    ")\n",
    "\n"
   ]
  },
  {
   "attachments": {},
   "cell_type": "markdown",
   "metadata": {},
   "source": [
    "----"
   ]
  },
  {
   "cell_type": "code",
   "execution_count": 22,
   "metadata": {},
   "outputs": [
    {
     "data": {
      "text/plain": [
       "<matplotlib.image.AxesImage at 0x7ff6bb7be9b0>"
      ]
     },
     "execution_count": 22,
     "metadata": {},
     "output_type": "execute_result"
    },
    {
     "data": {
      "image/png": "[encoded data removed]",
      "text/plain": [
       "<Figure size 500x500 with 1 Axes>"
      ]
     },
     "metadata": {},
     "output_type": "display_data"
    }
   ],
   "source": [
    "# Binarizar colonia deseada con los valores preestablecidos\n",
    "desired_gray = cv2.cvtColor(desired_colony, cv2.COLOR_BGR2GRAY)\n",
    "desired_bin = ((thresh_min_out < desired_gray) & (desired_gray < thresh_max_out)) * 1\n",
    "plt.imshow(desired_bin)"
   ]
  },
  {
   "attachments": {},
   "cell_type": "markdown",
   "metadata": {},
   "source": [
    "----"
   ]
  },
  {
   "cell_type": "code",
   "execution_count": 23,
   "metadata": {},
   "outputs": [
    {
     "data": {
      "text/html": [
       "<div>\n",
       "<style scoped>\n",
       "    .dataframe tbody tr th:only-of-type {\n",
       "        vertical-align: middle;\n",
       "    }\n",
       "\n",
       "    .dataframe tbody tr th {\n",
       "        vertical-align: top;\n",
       "    }\n",
       "\n",
       "    .dataframe thead th {\n",
       "        text-align: right;\n",
       "    }\n",
       "</style>\n",
       "<table border=\"1\" class=\"dataframe\">\n",
       "  <thead>\n",
       "    <tr style=\"text-align: right;\">\n",
       "      <th></th>\n",
       "      <th>fila</th>\n",
       "      <th>columna</th>\n",
       "      <th>b</th>\n",
       "      <th>g</th>\n",
       "      <th>r</th>\n",
       "      <th>label</th>\n",
       "    </tr>\n",
       "  </thead>\n",
       "  <tbody>\n",
       "    <tr>\n",
       "      <th>0</th>\n",
       "      <td>0</td>\n",
       "      <td>0</td>\n",
       "      <td>255</td>\n",
       "      <td>7</td>\n",
       "      <td>150</td>\n",
       "      <td>0</td>\n",
       "    </tr>\n",
       "    <tr>\n",
       "      <th>1</th>\n",
       "      <td>0</td>\n",
       "      <td>1</td>\n",
       "      <td>255</td>\n",
       "      <td>7</td>\n",
       "      <td>150</td>\n",
       "      <td>0</td>\n",
       "    </tr>\n",
       "    <tr>\n",
       "      <th>2</th>\n",
       "      <td>0</td>\n",
       "      <td>2</td>\n",
       "      <td>255</td>\n",
       "      <td>7</td>\n",
       "      <td>150</td>\n",
       "      <td>0</td>\n",
       "    </tr>\n",
       "    <tr>\n",
       "      <th>3</th>\n",
       "      <td>0</td>\n",
       "      <td>3</td>\n",
       "      <td>255</td>\n",
       "      <td>7</td>\n",
       "      <td>150</td>\n",
       "      <td>0</td>\n",
       "    </tr>\n",
       "    <tr>\n",
       "      <th>4</th>\n",
       "      <td>0</td>\n",
       "      <td>4</td>\n",
       "      <td>255</td>\n",
       "      <td>8</td>\n",
       "      <td>150</td>\n",
       "      <td>0</td>\n",
       "    </tr>\n",
       "    <tr>\n",
       "      <th>...</th>\n",
       "      <td>...</td>\n",
       "      <td>...</td>\n",
       "      <td>...</td>\n",
       "      <td>...</td>\n",
       "      <td>...</td>\n",
       "      <td>...</td>\n",
       "    </tr>\n",
       "    <tr>\n",
       "      <th>894</th>\n",
       "      <td>28</td>\n",
       "      <td>26</td>\n",
       "      <td>255</td>\n",
       "      <td>21</td>\n",
       "      <td>163</td>\n",
       "      <td>0</td>\n",
       "    </tr>\n",
       "    <tr>\n",
       "      <th>895</th>\n",
       "      <td>28</td>\n",
       "      <td>27</td>\n",
       "      <td>255</td>\n",
       "      <td>21</td>\n",
       "      <td>164</td>\n",
       "      <td>0</td>\n",
       "    </tr>\n",
       "    <tr>\n",
       "      <th>896</th>\n",
       "      <td>28</td>\n",
       "      <td>28</td>\n",
       "      <td>255</td>\n",
       "      <td>21</td>\n",
       "      <td>164</td>\n",
       "      <td>0</td>\n",
       "    </tr>\n",
       "    <tr>\n",
       "      <th>897</th>\n",
       "      <td>28</td>\n",
       "      <td>29</td>\n",
       "      <td>255</td>\n",
       "      <td>21</td>\n",
       "      <td>163</td>\n",
       "      <td>0</td>\n",
       "    </tr>\n",
       "    <tr>\n",
       "      <th>898</th>\n",
       "      <td>28</td>\n",
       "      <td>30</td>\n",
       "      <td>255</td>\n",
       "      <td>21</td>\n",
       "      <td>163</td>\n",
       "      <td>0</td>\n",
       "    </tr>\n",
       "  </tbody>\n",
       "</table>\n",
       "<p>899 rows × 6 columns</p>\n",
       "</div>"
      ],
      "text/plain": [
       "     fila  columna    b   g    r  label\n",
       "0       0        0  255   7  150      0\n",
       "1       0        1  255   7  150      0\n",
       "2       0        2  255   7  150      0\n",
       "3       0        3  255   7  150      0\n",
       "4       0        4  255   8  150      0\n",
       "..    ...      ...  ...  ..  ...    ...\n",
       "894    28       26  255  21  163      0\n",
       "895    28       27  255  21  164      0\n",
       "896    28       28  255  21  164      0\n",
       "897    28       29  255  21  163      0\n",
       "898    28       30  255  21  163      0\n",
       "\n",
       "[899 rows x 6 columns]"
      ]
     },
     "execution_count": 23,
     "metadata": {},
     "output_type": "execute_result"
    }
   ],
   "source": [
    "#Generacion del Datafram\n",
    "df_desired[\"label\"] = desired_bin.flatten()\n",
    "df_desired"
   ]
  },
  {
   "attachments": {},
   "cell_type": "markdown",
   "metadata": {},
   "source": [
    "----"
   ]
  },
  {
   "attachments": {},
   "cell_type": "markdown",
   "metadata": {},
   "source": [
    "## Entrenamiento KNN\n",
    "Una vez definido el DataFrame con los datos catalogados se procede a entrenar un\n",
    "modelo clasificador para detectar la colonia deseada. Como modelo se eligió\n",
    "K-Nearest Neighbours (KNN), debido a que las colonias se tratan de datos \n",
    "agrupados por regiones.\n",
    "<center><img src=\"Material/IA_robottreadmill.png\" width=\"150\">"
   ]
  },
  {
   "attachments": {},
   "cell_type": "markdown",
   "metadata": {},
   "source": [
    "----"
   ]
  },
  {
   "cell_type": "code",
   "execution_count": 24,
   "metadata": {},
   "outputs": [
    {
     "data": {
      "text/html": [
       "<style>#sk-container-id-3 {color: black;background-color: white;}#sk-container-id-3 pre{padding: 0;}#sk-container-id-3 div.sk-toggleable {background-color: white;}#sk-container-id-3 label.sk-toggleable__label {cursor: pointer;display: block;width: 100%;margin-bottom: 0;padding: 0.3em;box-sizing: border-box;text-align: center;}#sk-container-id-3 label.sk-toggleable__label-arrow:before {content: \"▸\";float: left;margin-right: 0.25em;color: #696969;}#sk-container-id-3 label.sk-toggleable__label-arrow:hover:before {color: black;}#sk-container-id-3 div.sk-estimator:hover label.sk-toggleable__label-arrow:before {color: black;}#sk-container-id-3 div.sk-toggleable__content {max-height: 0;max-width: 0;overflow: hidden;text-align: left;background-color: #f0f8ff;}#sk-container-id-3 div.sk-toggleable__content pre {margin: 0.2em;color: black;border-radius: 0.25em;background-color: #f0f8ff;}#sk-container-id-3 input.sk-toggleable__control:checked~div.sk-toggleable__content {max-height: 200px;max-width: 100%;overflow: auto;}#sk-container-id-3 input.sk-toggleable__control:checked~label.sk-toggleable__label-arrow:before {content: \"▾\";}#sk-container-id-3 div.sk-estimator input.sk-toggleable__control:checked~label.sk-toggleable__label {background-color: #d4ebff;}#sk-container-id-3 div.sk-label input.sk-toggleable__control:checked~label.sk-toggleable__label {background-color: #d4ebff;}#sk-container-id-3 input.sk-hidden--visually {border: 0;clip: rect(1px 1px 1px 1px);clip: rect(1px, 1px, 1px, 1px);height: 1px;margin: -1px;overflow: hidden;padding: 0;position: absolute;width: 1px;}#sk-container-id-3 div.sk-estimator {font-family: monospace;background-color: #f0f8ff;border: 1px dotted black;border-radius: 0.25em;box-sizing: border-box;margin-bottom: 0.5em;}#sk-container-id-3 div.sk-estimator:hover {background-color: #d4ebff;}#sk-container-id-3 div.sk-parallel-item::after {content: \"\";width: 100%;border-bottom: 1px solid gray;flex-grow: 1;}#sk-container-id-3 div.sk-label:hover label.sk-toggleable__label {background-color: #d4ebff;}#sk-container-id-3 div.sk-serial::before {content: \"\";position: absolute;border-left: 1px solid gray;box-sizing: border-box;top: 0;bottom: 0;left: 50%;z-index: 0;}#sk-container-id-3 div.sk-serial {display: flex;flex-direction: column;align-items: center;background-color: white;padding-right: 0.2em;padding-left: 0.2em;position: relative;}#sk-container-id-3 div.sk-item {position: relative;z-index: 1;}#sk-container-id-3 div.sk-parallel {display: flex;align-items: stretch;justify-content: center;background-color: white;position: relative;}#sk-container-id-3 div.sk-item::before, #sk-container-id-3 div.sk-parallel-item::before {content: \"\";position: absolute;border-left: 1px solid gray;box-sizing: border-box;top: 0;bottom: 0;left: 50%;z-index: -1;}#sk-container-id-3 div.sk-parallel-item {display: flex;flex-direction: column;z-index: 1;position: relative;background-color: white;}#sk-container-id-3 div.sk-parallel-item:first-child::after {align-self: flex-end;width: 50%;}#sk-container-id-3 div.sk-parallel-item:last-child::after {align-self: flex-start;width: 50%;}#sk-container-id-3 div.sk-parallel-item:only-child::after {width: 0;}#sk-container-id-3 div.sk-dashed-wrapped {border: 1px dashed gray;margin: 0 0.4em 0.5em 0.4em;box-sizing: border-box;padding-bottom: 0.4em;background-color: white;}#sk-container-id-3 div.sk-label label {font-family: monospace;font-weight: bold;display: inline-block;line-height: 1.2em;}#sk-container-id-3 div.sk-label-container {text-align: center;}#sk-container-id-3 div.sk-container {/* jupyter's `normalize.less` sets `[hidden] { display: none; }` but bootstrap.min.css set `[hidden] { display: none !important; }` so we also need the `!important` here to be able to override the default hidden behavior on the sphinx rendered scikit-learn.org. See: https://github.com/scikit-learn/scikit-learn/issues/21755 */display: inline-block !important;position: relative;}#sk-container-id-3 div.sk-text-repr-fallback {display: none;}</style><div id=\"sk-container-id-3\" class=\"sk-top-container\"><div class=\"sk-text-repr-fallback\"><pre>KNeighborsClassifier(n_neighbors=20, weights=&#x27;distance&#x27;)</pre><b>In a Jupyter environment, please rerun this cell to show the HTML representation or trust the notebook. <br />On GitHub, the HTML representation is unable to render, please try loading this page with nbviewer.org.</b></div><div class=\"sk-container\" hidden><div class=\"sk-item\"><div class=\"sk-estimator sk-toggleable\"><input class=\"sk-toggleable__control sk-hidden--visually\" id=\"sk-estimator-id-3\" type=\"checkbox\" checked><label for=\"sk-estimator-id-3\" class=\"sk-toggleable__label sk-toggleable__label-arrow\">KNeighborsClassifier</label><div class=\"sk-toggleable__content\"><pre>KNeighborsClassifier(n_neighbors=20, weights=&#x27;distance&#x27;)</pre></div></div></div></div></div>"
      ],
      "text/plain": [
       "KNeighborsClassifier(n_neighbors=20, weights='distance')"
      ]
     },
     "execution_count": 24,
     "metadata": {},
     "output_type": "execute_result"
    }
   ],
   "source": [
    "knn = KNeighborsClassifier(n_neighbors=20, weights=\"distance\")\n",
    "knn.fit(df_desired.iloc[:, 2:-1], df_desired[\"label\"])"
   ]
  },
  {
   "attachments": {},
   "cell_type": "markdown",
   "metadata": {},
   "source": [
    "----"
   ]
  },
  {
   "attachments": {},
   "cell_type": "markdown",
   "metadata": {},
   "source": [
    "## Predicción en todo el set de datos\n",
    "Una vez teniendo el modelo entrenado se realiza la predicción en toda la imagen.\n",
    "<center> <img src=\"Material/IA_robotcrystal.png\" width=\"200\">"
   ]
  },
  {
   "attachments": {},
   "cell_type": "markdown",
   "metadata": {},
   "source": [
    "----"
   ]
  },
  {
   "cell_type": "code",
   "execution_count": 25,
   "metadata": {},
   "outputs": [
    {
     "name": "stdout",
     "output_type": "stream",
     "text": [
      "Cluster:  0\n"
     ]
    },
    {
     "data": {
      "image/png": "[encoded data removed]",
      "text/plain": [
       "<Figure size 500x500 with 1 Axes>"
      ]
     },
     "metadata": {},
     "output_type": "display_data"
    },
    {
     "name": "stdout",
     "output_type": "stream",
     "text": [
      "Cluster:  1\n"
     ]
    },
    {
     "data": {
      "image/png": "[encoded data removed]",
      "text/plain": [
       "<Figure size 500x500 with 1 Axes>"
      ]
     },
     "metadata": {},
     "output_type": "display_data"
    }
   ],
   "source": [
    "# Generacion del dataframe de la imagen original (recortada)\n",
    "df_petri = gen_df(petri)\n",
    "\n",
    "# Prediccion con KNN entrenada\n",
    "labels = knn.predict(df_petri.iloc[:, 2:])\n",
    "df_petri[\"labels\"] = labels\n",
    "\n",
    "for label in df_petri[\"labels\"].unique():\n",
    "    print(\"Cluster: \", label)\n",
    "    colonies = (df_petri[\"labels\"].values.reshape((ny, nx)) == label) * 1\n",
    "    plt.imshow(colonies)\n",
    "    plt.axis('off')\n",
    "    plt.set_cmap(cmap=\"binary\")\n",
    "    plt.savefig(\"Colonies\"+str(label)+\".png\", bbox_inches='tight')\n",
    "    plt.axis('off')\n",
    "    plt.show()"
   ]
  },
  {
   "attachments": {},
   "cell_type": "markdown",
   "metadata": {},
   "source": [
    "----"
   ]
  },
  {
   "attachments": {},
   "cell_type": "markdown",
   "metadata": {},
   "source": [
    "# Conteo de número de UFCs\n",
    "\n",
    "Para el conteo de UFCs se implementaron dos métodos:\n",
    "\n",
    "- Relaciones de áreas\n",
    "- Conteo de \n",
    "### Relaciones de áreas\n",
    "\n",
    "Sabiendo el número de colonias en el recorte realizado se calcula el área\n",
    "promedio que corresponde a una colonia. El área se mide en unidades de pixeles\n",
    "y el área promedio se determina según:\n",
    "\n",
    "$\\frac{N_{pixeles totales}}{N_{colonias}}$\n",
    "\n",
    "### Conteo de puntos\n",
    "Como método alternativo se utilizó un algoritmo contador de componentes (cv2.connectedComponents) utilizando la imagen de las colonias ya catalogadas mediante KNN.\n",
    "\n",
    "<center> <img src=\"Material/IA_robot_calc.png\" width=\"200\">"
   ]
  },
  {
   "attachments": {},
   "cell_type": "markdown",
   "metadata": {},
   "source": [
    "----"
   ]
  },
  {
   "cell_type": "code",
   "execution_count": 26,
   "metadata": {},
   "outputs": [],
   "source": [
    "# Cantidad de colonias en el recorte de clasificación\n",
    "n_desired = 1\n",
    "\n",
    "# Determinación de area promedio\n",
    "area = len(df_desired[df_desired[\"label\"] == label])\n",
    "mean_area = area/n_desired\n",
    "\n",
    "if mean_area <= 0:\n",
    "    raise Exception(\"Ajustar la Binarización de la Colonia\")\n",
    "\n",
    "# Determinación de número de colonias\n",
    "n_colonies = len(df_petri[df_petri[\"labels\"] == label])/mean_area\n",
    "\n",
    "##############################################################################\n",
    "\n",
    "# Codigo de conteo de areas cerradas\n",
    "   \n",
    "# Creacion de un matriz vacía para analizar conteos\n",
    "ResultingList = [0]*2\n",
    "\n",
    "# Analisis de cada una de las imagenes creadas\n",
    "for i in list(range(2)):\n",
    "    img = cv2.imread(\"Colonies\"+str(i)+\".png\", cv2.IMREAD_GRAYSCALE)\n",
    "\n",
    "    img = get_imgtocount(img)\n",
    "    \n",
    "    # Creacion de un rectangulo de 3x3 como kernel\n",
    "    kernel = cv2.getStructuringElement(cv2.MORPH_RECT, (3, 3))\n",
    "    \n",
    "    # Aplicacion  de un umbral con los limites establecidos antes\n",
    "    mask = cv2.threshold(img, thresh_min_out, thresh_max_out, cv2.THRESH_BINARY)[1]\n",
    "\n",
    "\n",
    "    # Eliminacion de ruido de la imagen\n",
    "    mask = cv2.morphologyEx(mask, cv2.MORPH_OPEN, kernel)\n",
    "    # Relleno de las areas cerradas\n",
    "    mask = cv2.morphologyEx(mask, cv2.MORPH_CLOSE, kernel)\n",
    "\n",
    "    #Recuento de todas las areas cerradas que se encuentran en la imagen\n",
    "    n_centers = cv2.connectedComponents(mask)[0] - 1\n",
    "    #print(n_centers)\n",
    "    ResultingList[i] = n_centers \n",
    "\n",
    "# Ordenamiento del conteo de menor a mayor \n",
    "ResultingList = sorted(ResultingList)"
   ]
  },
  {
   "attachments": {},
   "cell_type": "markdown",
   "metadata": {},
   "source": [
    "----"
   ]
  },
  {
   "attachments": {},
   "cell_type": "markdown",
   "metadata": {},
   "source": [
    "# Resultados\n",
    "<center> <img src=\"27/input.jpg\" width=\"150\"><img src=\"Material/27_colonies.png\" width=\"150\"> (#21/#27)\n",
    "<center> <img src=\"real3/input.jpg\" width=\"150\"><img src=\"Material/real3_colonies.png\" width=\"150\"> (#11/#12)\n",
    "<center> <img src=\"real2/input.jpg\" width=\"150\"><img src=\"Material/real2_colonies.png\" width=\"150\"> (#46/#51)\n",
    "<center> <img src=\"Ejemplo/input.jpg\" width=\"150\"><img src=\"Material/IA_robot31.png\" width=\"150\"> (???)"
   ]
  },
  {
   "cell_type": "code",
   "execution_count": 27,
   "metadata": {},
   "outputs": [
    {
     "name": "stdout",
     "output_type": "stream",
     "text": [
      "RESULTADOS FINALES:\n",
      "# Segun un calculo basado en superficies, hay 28 colonia(s).\n",
      "# Mientras que, por un conteo por bordes y areas cerradas, hay 31 colonia(s).\n"
     ]
    }
   ],
   "source": [
    "# Impresion por pantalla de los resultados finales.\n",
    "print(\"RESULTADOS FINALES:\")\n",
    "print(\n",
    "f\"# Segun un calculo basado en superficies,\\\n",
    " hay {math.ceil(n_colonies)} colonia(s).\"\n",
    " )\n",
    "print(\n",
    "f\"# Mientras que, por un conteo por bordes y areas cerradas,\\\n",
    " hay {ResultingList[1]} colonia(s).\"\n",
    ")\n",
    "\n"
   ]
  },
  {
   "attachments": {},
   "cell_type": "markdown",
   "metadata": {},
   "source": [
    "----"
   ]
  },
  {
   "attachments": {},
   "cell_type": "markdown",
   "metadata": {},
   "source": [
    "# Conclusiones\n",
    "- Se implementó un modelo KNN capaz de identificar y contabilizar UFC de manera eficiente y en gran medida automatizada. \n",
    "- Se podría realizar el conteo de múltiples colonias distintas dentro de la misma cápsula. \n",
    "- Sería necesario realizar mejoras en la técnica de categorización (eliminación de ruido y brillos en la imagen)\n",
    "<center> <img src=\"Material/IA_robottime.png\" width=\"200\">>"
   ]
  },
  {
   "attachments": {},
   "cell_type": "markdown",
   "metadata": {},
   "source": [
    "----"
   ]
  },
  {
   "attachments": {},
   "cell_type": "markdown",
   "metadata": {},
   "source": [
    "<h1 style='text-align: center;'><font size= '10'>¡MUCHAS GRACIAS!</h1></font>\n",
    "<center> <img src=\"Material/IA_robotfamily.png\" width=\"150\"> \n"
   ]
  }
 ],
 "metadata": {
  "colab": {
   "provenance": []
  },
  "kernelspec": {
   "display_name": "MLIP",
   "language": "python",
   "name": "python3"
  },
  "language_info": {
   "codemirror_mode": {
    "name": "ipython",
    "version": 3
   },
   "file_extension": ".py",
   "mimetype": "text/x-python",
   "name": "python",
   "nbconvert_exporter": "python",
   "pygments_lexer": "ipython3",
   "version": "3.10.6"
  },
  "vscode": {
   "interpreter": {
    "hash": "2ff2091a9de783146756d54d7fb06567464c30a0dfbdc37e2d987691ac7061ed"
   }
  }
 },
 "nbformat": 4,
 "nbformat_minor": 1
}
