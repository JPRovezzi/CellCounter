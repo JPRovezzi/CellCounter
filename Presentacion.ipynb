{
 "cells": [
  {
   "attachments": {},
   "cell_type": "markdown",
   "metadata": {},
   "source": [
    "<img src=\"https://iispi.com.ar/wp-content/themes/iispi/img/logosfooter-05.png\" width=\"600\"> <img src=\"https://encrypted-tbn0.gstatic.com/images?q=tbn:ANd9GcSyQ946reluo38hvW_laUQJasxSZ3hQGVvytmH3KDWHoEEmBKQKw3FNatXU16cHq4a0eCo&usqp=CAU\" width=\"200\"> \n",
    "\n",
    "<h1 style='text-align: center;'><font size= '5'>Machine Learning e Imágenes en Python (2022)</h1></font> \n",
    "\n",
    "# <center> Automatización del conteo de unidades formadoras de colonias bacterianas\n",
    "\n",
    "<h1 style='text-align: left;'><font size= '4'>· Benelli Federico</h1></font> \n",
    "<h1 style='text-align: left;'><font size= '4'>· Rovezzi Juan Pablo</h1></font> \n",
    "<h1 style='text-align: center;'><font size= '2'>Dra. Valeria Rulloni - Dra. Ana Carolina Maldonado</h1></font> "
   ]
  },
  {
   "attachments": {},
   "cell_type": "markdown",
   "metadata": {},
   "source": [
    "# Introducción\n",
    "Sobre esta temática hay que responder algunos interrogantes...\n",
    "- ¿Qué es el conteo de unidades formadoras de colonias bacterianas (UFC/CFU)?\n",
    "- ¿En qué consiste?\n",
    "- ¿Cómo podemos mejorar la técnica?\n",
    "\n",
    "<img src=\"Material/draw-petriwagar.png\" width=\"200\"><img src=\"Material/draw_petriwbacteria.jpg\" width=\"200\"><img src=\"Material/draw_petriwhand.jpg\" width=\"200\">\n",
    "\n"
   ]
  },
  {
   "attachments": {},
   "cell_type": "markdown",
   "metadata": {},
   "source": [
    "## Objetivo:\n",
    "Diseñar una herramienta de cuantificacion de UFC a partir de fotografias tomadas en plano cenital de capsulas de petri sobre superficies de algun color sólido con el fin de aplicar los conocimientos enseñados y herramientas adquiridas en este curso.\n",
    "<center> <img src=\"Material/Petri-A.jpg\" width=\"200\">\n",
    "<h1 style='text-align: center;'><font size= '2'>Figura 1</h1></font> "
   ]
  },
  {
   "attachments": {},
   "cell_type": "markdown",
   "metadata": {},
   "source": [
    "# Metodología\n",
    "Para realizar el conteo de UFCs de una manera automatizada se utilizó un enfoque de entrenamiento semi-\n",
    "supervisado, utilizando un modelo K-Nearest Neighbors (KNN). La implementación fue realizada en Python,\n",
    "con soporte de las librerías opencv, matplotlib, pandas, numpy y sklearn.\n",
    "Para llevarlo a cabo se requirieron 3 etapas:\n",
    "- Carga de imágen y preprocesamiento\n",
    "- Entrenamiento de modelo y categorización de datos\n",
    "- Conteo de UFCs\n",
    "\n",
    "<center> <img src=\"https://img.freepik.com/vector-gratis/ilustracion-icono-doodle-engranaje_53876-5596.jpg\" width=\"200\"> "
   ]
  },
  {
   "cell_type": "markdown",
   "metadata": {
    "id": "gtxKpdf4TDIF"
   },
   "source": [
    "## Librerias"
   ]
  },
  {
   "cell_type": "code",
   "execution_count": 7,
   "metadata": {
    "id": "Y1NYg0kHPVMr"
   },
   "outputs": [],
   "source": [
    "# Numpy para calculo vectorial\n",
    "import numpy as np\n",
    "import math\n",
    "# cv2 para trabajar con imagenes\n",
    "import cv2\n",
    "\n",
    "# matplotlib para graficar\n",
    "import matplotlib.pyplot as plt\n",
    "import matplotlib.patches as mpatches\n",
    "from mpl_toolkits.mplot3d import Axes3D\n",
    "\n",
    "# Pandas para manipular datos\n",
    "import pandas as pd\n",
    "\n",
    "# sklearn para machine learning\n",
    "from sklearn.neighbors import KNeighborsClassifier\n",
    "from sklearn.cluster import KMeans\n",
    "from sklearn.cluster import BisectingKMeans\n",
    "from sklearn.neighbors import KNeighborsClassifier\n",
    "from sklearn import preprocessing, decomposition\n",
    "# \n",
    "from IPython.display import clear_output \n",
    "from collections import Counter\n",
    "from ipywidgets import interact, widgets\n",
    "\n",
    "# Nuestra propia libreria de funciones\n",
    "from Modulos.funciones import *\n",
    "\n",
    "# Parametros por defecto de matplotlib\n",
    "plt.rcParams['figure.figsize'] = [5, 5]"
   ]
  },
  {
   "attachments": {},
   "cell_type": "markdown",
   "metadata": {
    "id": "SQw1p7mdcmnB"
   },
   "source": [
    "## Funciones"
   ]
  },
  {
   "attachments": {},
   "cell_type": "markdown",
   "metadata": {
    "id": "xRdpwU13qTIB"
   },
   "source": [
    "# Carga de imágen a analizar y preprocesamiento"
   ]
  },
  {
   "attachments": {},
   "cell_type": "markdown",
   "metadata": {},
   "source": [
    "Partiendo de una imagen similar a la Figura 1, se selecciona un área que representa específicamente a la cápsula de petri, una vez seleccionada se extrae además una subárea correspondiente a una serie de colonias que se desea contabilizar. Posteriormente se realiza un recorte del área exterior a la cápsula, con el fin de facilitar la categorización posterior al tener una imagen más limpia.\n",
    "<center> <img src=\"Material/figura2.jpg\" width=\"500\">\n",
    "<h1 style='text-align: center;'><font size= '2'>Figura 2</h1></font> "
   ]
  },
  {
   "cell_type": "code",
   "execution_count": 8,
   "metadata": {},
   "outputs": [],
   "source": [
    "input_path = \"Ejemplo/input.jpg\""
   ]
  },
  {
   "cell_type": "code",
   "execution_count": 9,
   "metadata": {
    "colab": {
     "base_uri": "https://localhost:8080/",
     "height": 223
    },
    "id": "bJhTCD9a7DkN",
    "outputId": "72eb62c3-a554-47ff-af2a-767c7b6b6a8f"
   },
   "outputs": [
    {
     "name": "stdout",
     "output_type": "stream",
     "text": [
      "Resolucion inicial: (1024, 1024, 3)\n",
      "Resolucion resultante: (400, 400, 3)\n",
      "La imagen es almacenada como: <class 'numpy.ndarray'>\n",
      "Y los datos cargados dentro son: <class 'numpy.uint8'>\n"
     ]
    }
   ],
   "source": [
    "image = cv2.imread(input_path)\n",
    "\n",
    "print(\"Resolucion inicial:\",image.shape)\n",
    "\n",
    "if image.shape >= (400,400,3):\n",
    "    # Reducir el tamaño de imagen para agilizar el proceso\n",
    "    image = cv2.resize(image,(400,400)) \n",
    "\n",
    "print(\"Resolucion resultante:\",image.shape)\n",
    "\n",
    "print(\"La imagen es almacenada como:\", type(image))\n",
    "print(\"Y los datos cargados dentro son:\", type(image[0,0,0]))"
   ]
  },
  {
   "attachments": {},
   "cell_type": "markdown",
   "metadata": {},
   "source": [
    "Se solicita al usuario seleccionar el area que ocupa la placa de Petri"
   ]
  },
  {
   "cell_type": "code",
   "execution_count": 10,
   "metadata": {},
   "outputs": [
    {
     "name": "stdout",
     "output_type": "stream",
     "text": [
      "Select a ROI and then press SPACE or ENTER button!\n",
      "Cancel the selection process by pressing c button!\n",
      "Select a ROI and then press SPACE or ENTER button!\n",
      "Cancel the selection process by pressing c button!\n"
     ]
    }
   ],
   "source": [
    "# Selección de cápsula de petri\n",
    "petri, petri_range = get_area(image, \"Select Petri\")\n",
    "cv2.destroyWindow('Select Petri')\n",
    "\n",
    "# Selección de colonia para etiquetar\n",
    "desired_colony, colony_range = get_area(image, \"Select Colony\")\n",
    "cv2.destroyWindow('Select Colony')\n",
    "\n",
    "ny, nx, _ = petri.shape"
   ]
  },
  {
   "cell_type": "code",
   "execution_count": 11,
   "metadata": {},
   "outputs": [
    {
     "data": {
      "text/plain": [
       "True"
      ]
     },
     "execution_count": 11,
     "metadata": {},
     "output_type": "execute_result"
    }
   ],
   "source": [
    "# Guardado de imagenes en otra parte, para tener acceso ante cualquier\n",
    "# eventualidad\n",
    "cv2.imwrite(\"tmp_petri.jpg\", petri)\n",
    "cv2.imwrite(\"tmp_desired_colony.jpg\", desired_colony)"
   ]
  },
  {
   "cell_type": "code",
   "execution_count": 12,
   "metadata": {},
   "outputs": [],
   "source": [
    "# Conversión de imagen BGR a RGB\n",
    "petri = cv2.cvtColor(petri, cv2.COLOR_BGR2RGB)\n",
    "desired_colony = cv2.cvtColor(desired_colony, cv2.COLOR_BGR2RGB)\n",
    "gray_petri = cv2.cvtColor(petri, cv2.COLOR_BGR2GRAY)\n",
    "\n",
    "# Generación de DataFrames con las imágenes\n",
    "df_petri = gen_df(petri)\n",
    "df_desired = gen_df(desired_colony)"
   ]
  },
  {
   "attachments": {},
   "cell_type": "markdown",
   "metadata": {},
   "source": [
    "### Recortar exterior\n",
    "Una vez teniendo la sección de la placa de Petri, se realiza un recorte de la \n",
    "zona exterior a la cápsula, asumiendo que la misma está representada como un\n",
    "círculo perfecto (foto tomada de manera totalmente perpendicular y alineada\n",
    "al centro de la placa)"
   ]
  },
  {
   "cell_type": "code",
   "execution_count": 14,
   "metadata": {},
   "outputs": [
    {
     "data": {
      "application/vnd.jupyter.widget-view+json": {
       "model_id": "5e92f6f8a0484ea3963a5289040b7ae2",
       "version_major": 2,
       "version_minor": 0
      },
      "text/plain": [
       "interactive(children=(IntSlider(value=-440, description='offset', layout=Layout(width='500px'), max=440, min=-…"
      ]
     },
     "metadata": {},
     "output_type": "display_data"
    },
    {
     "data": {
      "text/plain": [
       "<function Modulos.funciones.mkcircle_petri(offset, background)>"
      ]
     },
     "execution_count": 14,
     "metadata": {},
     "output_type": "execute_result"
    }
   ],
   "source": [
    "interact(\n",
    "    mkcircle_petri,\n",
    "    offset=widgets.IntSlider(\n",
    "        min=-petri.shape[0]*1.1,\n",
    "        max=petri.shape[0]*1.1,\n",
    "        step=1,\n",
    "        value=-petri.shape[0]*10,\n",
    "        layout=widgets.Layout(width='500px')\n",
    "    ),\n",
    "    background=widgets.IntSlider(\n",
    "        min=0, \n",
    "        max=255,\n",
    "        step=255, value=0,layout=widgets.Layout(width='200px')),\n",
    ")"
   ]
  },
  {
   "cell_type": "code",
   "execution_count": 31,
   "metadata": {},
   "outputs": [
    {
     "data": {
      "text/plain": [
       "<matplotlib.image.AxesImage at 0x7f2db3b58850>"
      ]
     },
     "execution_count": 31,
     "metadata": {},
     "output_type": "execute_result"
    },
    {
     "data": {
      "image/png": "[encoded data removed]",
      "text/plain": [
       "<Figure size 1000x500 with 2 Axes>"
      ]
     },
     "metadata": {},
     "output_type": "display_data"
    }
   ],
   "source": [
    "fig, ax = plt.subplots(nrows=1, ncols=2, figsize=(10, 5))\n",
    "\n",
    "ax[0].imshow(petri)\n",
    "ax[1].imshow(desired_colony)"
   ]
  },
  {
   "attachments": {},
   "cell_type": "markdown",
   "metadata": {},
   "source": [
    "# Clusterizacion con KNN"
   ]
  },
  {
   "cell_type": "markdown",
   "metadata": {},
   "source": [
    "## Binarización de colonia de interés\n",
    "\n",
    "Como primer etapa, se binariza el recorte de entrenamiento de la imagen original\n",
    "con el objetivo de aislar la región que compone a la colonia de interés.\n",
    "\n",
    "Para realizar esto se utiliza un threshold, variando límite inferior y superior\n",
    "hasta llegar a una separación adecuada.\n",
    "\n",
    "Durante esta etapa también se muestra la imagen original al mismo tiempo que la\n",
    "de binarización de manera superpuesta, con el objetivo de facilitar la correcta\n",
    "selección de los límites."
   ]
  },
  {
   "cell_type": "code",
   "execution_count": 32,
   "metadata": {},
   "outputs": [
    {
     "data": {
      "application/vnd.jupyter.widget-view+json": {
       "model_id": "97257d56f4164fcf9e60d8697318cb65",
       "version_major": 2,
       "version_minor": 0
      },
      "text/plain": [
       "interactive(children=(IntSlider(value=0, description='thresh_min', max=255), IntSlider(value=0, description='t…"
      ]
     },
     "metadata": {},
     "output_type": "display_data"
    },
    {
     "data": {
      "text/plain": [
       "<function __main__.set_threshold(thresh_min, thresh_max)>"
      ]
     },
     "execution_count": 32,
     "metadata": {},
     "output_type": "execute_result"
    }
   ],
   "source": [
    "\n",
    "# Obtención \n",
    "interact(\n",
    "    set_threshold,\n",
    "    thresh_min=widgets.IntSlider(min=0, max=255, step=1, value=0),\n",
    "    thresh_max=widgets.IntSlider(min=0, max=255, step=1, value=0)\n",
    ")\n",
    "\n"
   ]
  },
  {
   "cell_type": "code",
   "execution_count": 33,
   "metadata": {},
   "outputs": [
    {
     "data": {
      "text/plain": [
       "<matplotlib.image.AxesImage at 0x7f2db80876a0>"
      ]
     },
     "execution_count": 33,
     "metadata": {},
     "output_type": "execute_result"
    },
    {
     "data": {
      "image/png": "[encoded data removed]",
      "text/plain": [
       "<Figure size 500x500 with 1 Axes>"
      ]
     },
     "metadata": {},
     "output_type": "display_data"
    }
   ],
   "source": [
    "# Binarizar colonia deseada ocn los valores seteados\n",
    "desired_gray = cv2.cvtColor(desired_colony, cv2.COLOR_BGR2GRAY)\n",
    "desired_bin = ((thresh_min_out < desired_gray) & (desired_gray < thresh_max_out)) * 1\n",
    "plt.imshow(desired_bin)"
   ]
  },
  {
   "cell_type": "code",
   "execution_count": 34,
   "metadata": {},
   "outputs": [
    {
     "data": {
      "text/html": [
       "<div>\n",
       "<style scoped>\n",
       "    .dataframe tbody tr th:only-of-type {\n",
       "        vertical-align: middle;\n",
       "    }\n",
       "\n",
       "    .dataframe tbody tr th {\n",
       "        vertical-align: top;\n",
       "    }\n",
       "\n",
       "    .dataframe thead th {\n",
       "        text-align: right;\n",
       "    }\n",
       "</style>\n",
       "<table border=\"1\" class=\"dataframe\">\n",
       "  <thead>\n",
       "    <tr style=\"text-align: right;\">\n",
       "      <th></th>\n",
       "      <th>fila</th>\n",
       "      <th>columna</th>\n",
       "      <th>b</th>\n",
       "      <th>g</th>\n",
       "      <th>r</th>\n",
       "      <th>label</th>\n",
       "    </tr>\n",
       "  </thead>\n",
       "  <tbody>\n",
       "    <tr>\n",
       "      <th>0</th>\n",
       "      <td>0</td>\n",
       "      <td>0</td>\n",
       "      <td>142</td>\n",
       "      <td>110</td>\n",
       "      <td>158</td>\n",
       "      <td>0</td>\n",
       "    </tr>\n",
       "    <tr>\n",
       "      <th>1</th>\n",
       "      <td>0</td>\n",
       "      <td>1</td>\n",
       "      <td>142</td>\n",
       "      <td>110</td>\n",
       "      <td>158</td>\n",
       "      <td>0</td>\n",
       "    </tr>\n",
       "    <tr>\n",
       "      <th>2</th>\n",
       "      <td>0</td>\n",
       "      <td>2</td>\n",
       "      <td>142</td>\n",
       "      <td>110</td>\n",
       "      <td>158</td>\n",
       "      <td>0</td>\n",
       "    </tr>\n",
       "    <tr>\n",
       "      <th>3</th>\n",
       "      <td>0</td>\n",
       "      <td>3</td>\n",
       "      <td>142</td>\n",
       "      <td>110</td>\n",
       "      <td>158</td>\n",
       "      <td>0</td>\n",
       "    </tr>\n",
       "    <tr>\n",
       "      <th>4</th>\n",
       "      <td>0</td>\n",
       "      <td>4</td>\n",
       "      <td>142</td>\n",
       "      <td>110</td>\n",
       "      <td>158</td>\n",
       "      <td>0</td>\n",
       "    </tr>\n",
       "    <tr>\n",
       "      <th>...</th>\n",
       "      <td>...</td>\n",
       "      <td>...</td>\n",
       "      <td>...</td>\n",
       "      <td>...</td>\n",
       "      <td>...</td>\n",
       "      <td>...</td>\n",
       "    </tr>\n",
       "    <tr>\n",
       "      <th>1594</th>\n",
       "      <td>38</td>\n",
       "      <td>36</td>\n",
       "      <td>144</td>\n",
       "      <td>112</td>\n",
       "      <td>161</td>\n",
       "      <td>0</td>\n",
       "    </tr>\n",
       "    <tr>\n",
       "      <th>1595</th>\n",
       "      <td>38</td>\n",
       "      <td>37</td>\n",
       "      <td>144</td>\n",
       "      <td>112</td>\n",
       "      <td>161</td>\n",
       "      <td>0</td>\n",
       "    </tr>\n",
       "    <tr>\n",
       "      <th>1596</th>\n",
       "      <td>38</td>\n",
       "      <td>38</td>\n",
       "      <td>144</td>\n",
       "      <td>112</td>\n",
       "      <td>161</td>\n",
       "      <td>0</td>\n",
       "    </tr>\n",
       "    <tr>\n",
       "      <th>1597</th>\n",
       "      <td>38</td>\n",
       "      <td>39</td>\n",
       "      <td>143</td>\n",
       "      <td>113</td>\n",
       "      <td>161</td>\n",
       "      <td>0</td>\n",
       "    </tr>\n",
       "    <tr>\n",
       "      <th>1598</th>\n",
       "      <td>38</td>\n",
       "      <td>40</td>\n",
       "      <td>143</td>\n",
       "      <td>113</td>\n",
       "      <td>161</td>\n",
       "      <td>0</td>\n",
       "    </tr>\n",
       "  </tbody>\n",
       "</table>\n",
       "<p>1599 rows × 6 columns</p>\n",
       "</div>"
      ],
      "text/plain": [
       "      fila  columna    b    g    r  label\n",
       "0        0        0  142  110  158      0\n",
       "1        0        1  142  110  158      0\n",
       "2        0        2  142  110  158      0\n",
       "3        0        3  142  110  158      0\n",
       "4        0        4  142  110  158      0\n",
       "...    ...      ...  ...  ...  ...    ...\n",
       "1594    38       36  144  112  161      0\n",
       "1595    38       37  144  112  161      0\n",
       "1596    38       38  144  112  161      0\n",
       "1597    38       39  143  113  161      0\n",
       "1598    38       40  143  113  161      0\n",
       "\n",
       "[1599 rows x 6 columns]"
      ]
     },
     "execution_count": 34,
     "metadata": {},
     "output_type": "execute_result"
    }
   ],
   "source": [
    "df_desired[\"label\"] = desired_bin.flatten()\n",
    "df_desired"
   ]
  },
  {
   "cell_type": "markdown",
   "metadata": {},
   "source": [
    "## Entrenamiento KNN\n",
    "Una vez definido el DataFrame con los datos catalogados se procede a entrenar un\n",
    "modelo clasificador para detectar la colonia deseada. Como modelo se eligió\n",
    "K-Nearest Neighbours (KNN), debido a que las colonias se tratan de datos \n",
    "agrupados por regiones."
   ]
  },
  {
   "cell_type": "code",
   "execution_count": 35,
   "metadata": {},
   "outputs": [
    {
     "data": {
      "text/html": [
       "<style>#sk-container-id-2 {color: black;background-color: white;}#sk-container-id-2 pre{padding: 0;}#sk-container-id-2 div.sk-toggleable {background-color: white;}#sk-container-id-2 label.sk-toggleable__label {cursor: pointer;display: block;width: 100%;margin-bottom: 0;padding: 0.3em;box-sizing: border-box;text-align: center;}#sk-container-id-2 label.sk-toggleable__label-arrow:before {content: \"▸\";float: left;margin-right: 0.25em;color: #696969;}#sk-container-id-2 label.sk-toggleable__label-arrow:hover:before {color: black;}#sk-container-id-2 div.sk-estimator:hover label.sk-toggleable__label-arrow:before {color: black;}#sk-container-id-2 div.sk-toggleable__content {max-height: 0;max-width: 0;overflow: hidden;text-align: left;background-color: #f0f8ff;}#sk-container-id-2 div.sk-toggleable__content pre {margin: 0.2em;color: black;border-radius: 0.25em;background-color: #f0f8ff;}#sk-container-id-2 input.sk-toggleable__control:checked~div.sk-toggleable__content {max-height: 200px;max-width: 100%;overflow: auto;}#sk-container-id-2 input.sk-toggleable__control:checked~label.sk-toggleable__label-arrow:before {content: \"▾\";}#sk-container-id-2 div.sk-estimator input.sk-toggleable__control:checked~label.sk-toggleable__label {background-color: #d4ebff;}#sk-container-id-2 div.sk-label input.sk-toggleable__control:checked~label.sk-toggleable__label {background-color: #d4ebff;}#sk-container-id-2 input.sk-hidden--visually {border: 0;clip: rect(1px 1px 1px 1px);clip: rect(1px, 1px, 1px, 1px);height: 1px;margin: -1px;overflow: hidden;padding: 0;position: absolute;width: 1px;}#sk-container-id-2 div.sk-estimator {font-family: monospace;background-color: #f0f8ff;border: 1px dotted black;border-radius: 0.25em;box-sizing: border-box;margin-bottom: 0.5em;}#sk-container-id-2 div.sk-estimator:hover {background-color: #d4ebff;}#sk-container-id-2 div.sk-parallel-item::after {content: \"\";width: 100%;border-bottom: 1px solid gray;flex-grow: 1;}#sk-container-id-2 div.sk-label:hover label.sk-toggleable__label {background-color: #d4ebff;}#sk-container-id-2 div.sk-serial::before {content: \"\";position: absolute;border-left: 1px solid gray;box-sizing: border-box;top: 0;bottom: 0;left: 50%;z-index: 0;}#sk-container-id-2 div.sk-serial {display: flex;flex-direction: column;align-items: center;background-color: white;padding-right: 0.2em;padding-left: 0.2em;position: relative;}#sk-container-id-2 div.sk-item {position: relative;z-index: 1;}#sk-container-id-2 div.sk-parallel {display: flex;align-items: stretch;justify-content: center;background-color: white;position: relative;}#sk-container-id-2 div.sk-item::before, #sk-container-id-2 div.sk-parallel-item::before {content: \"\";position: absolute;border-left: 1px solid gray;box-sizing: border-box;top: 0;bottom: 0;left: 50%;z-index: -1;}#sk-container-id-2 div.sk-parallel-item {display: flex;flex-direction: column;z-index: 1;position: relative;background-color: white;}#sk-container-id-2 div.sk-parallel-item:first-child::after {align-self: flex-end;width: 50%;}#sk-container-id-2 div.sk-parallel-item:last-child::after {align-self: flex-start;width: 50%;}#sk-container-id-2 div.sk-parallel-item:only-child::after {width: 0;}#sk-container-id-2 div.sk-dashed-wrapped {border: 1px dashed gray;margin: 0 0.4em 0.5em 0.4em;box-sizing: border-box;padding-bottom: 0.4em;background-color: white;}#sk-container-id-2 div.sk-label label {font-family: monospace;font-weight: bold;display: inline-block;line-height: 1.2em;}#sk-container-id-2 div.sk-label-container {text-align: center;}#sk-container-id-2 div.sk-container {/* jupyter's `normalize.less` sets `[hidden] { display: none; }` but bootstrap.min.css set `[hidden] { display: none !important; }` so we also need the `!important` here to be able to override the default hidden behavior on the sphinx rendered scikit-learn.org. See: https://github.com/scikit-learn/scikit-learn/issues/21755 */display: inline-block !important;position: relative;}#sk-container-id-2 div.sk-text-repr-fallback {display: none;}</style><div id=\"sk-container-id-2\" class=\"sk-top-container\"><div class=\"sk-text-repr-fallback\"><pre>KNeighborsClassifier(n_neighbors=20, weights=&#x27;distance&#x27;)</pre><b>In a Jupyter environment, please rerun this cell to show the HTML representation or trust the notebook. <br />On GitHub, the HTML representation is unable to render, please try loading this page with nbviewer.org.</b></div><div class=\"sk-container\" hidden><div class=\"sk-item\"><div class=\"sk-estimator sk-toggleable\"><input class=\"sk-toggleable__control sk-hidden--visually\" id=\"sk-estimator-id-2\" type=\"checkbox\" checked><label for=\"sk-estimator-id-2\" class=\"sk-toggleable__label sk-toggleable__label-arrow\">KNeighborsClassifier</label><div class=\"sk-toggleable__content\"><pre>KNeighborsClassifier(n_neighbors=20, weights=&#x27;distance&#x27;)</pre></div></div></div></div></div>"
      ],
      "text/plain": [
       "KNeighborsClassifier(n_neighbors=20, weights='distance')"
      ]
     },
     "execution_count": 35,
     "metadata": {},
     "output_type": "execute_result"
    }
   ],
   "source": [
    "knn = KNeighborsClassifier(n_neighbors=20, weights=\"distance\")\n",
    "knn.fit(df_desired.iloc[:, 2:-1], df_desired[\"label\"])"
   ]
  },
  {
   "cell_type": "markdown",
   "metadata": {},
   "source": [
    "## Predicción en todo el set de datos\n",
    "Una vez teniendo el modelo entrenado se realiza la predicción en toda la imagen."
   ]
  },
  {
   "cell_type": "code",
   "execution_count": 36,
   "metadata": {},
   "outputs": [
    {
     "name": "stdout",
     "output_type": "stream",
     "text": [
      "Cluster:  0\n"
     ]
    },
    {
     "data": {
      "image/png": "[encoded data removed]",
      "text/plain": [
       "<Figure size 500x500 with 1 Axes>"
      ]
     },
     "metadata": {},
     "output_type": "display_data"
    }
   ],
   "source": [
    "# Genero dataframe de la imagen original (recortada)\n",
    "df_petri = gen_df(petri)\n",
    "\n",
    "# Prediccion con KMeans entrenada\n",
    "labels = knn.predict(df_petri.iloc[:, 2:])\n",
    "df_petri[\"labels\"] = labels\n",
    "\n",
    "for label in df_petri[\"labels\"].unique():\n",
    "    print(\"Cluster: \", label)\n",
    "    colonies = (df_petri[\"labels\"].values.reshape((ny, nx)) == label) * 1\n",
    "    plt.imshow(colonies)\n",
    "    plt.axis('off')\n",
    "    plt.set_cmap(cmap=\"binary\")\n",
    "    plt.axis('off')\n",
    "    plt.show()"
   ]
  },
  {
   "attachments": {},
   "cell_type": "markdown",
   "metadata": {},
   "source": [
    "# Conteo de número de UFCs\n",
    "\n",
    "Para el conteo de UFCs se implementaron dos métodos:\n",
    "\n",
    "- Relaciones de áreas\n",
    "- Conteo de puntos"
   ]
  },
  {
   "cell_type": "markdown",
   "metadata": {},
   "source": [
    "### Relaciones de áreas\n",
    "\n",
    "Sabiendo el número de colonias en el recorte realizado se calcula el área\n",
    "promedio que corresponde a una colonia. El área se mide en unidades de pixeles\n",
    "y el área promedio se determina según:\n",
    "\n",
    "$\\frac{N_{pixeles totales}}{N_{colonias}}$"
   ]
  },
  {
   "cell_type": "code",
   "execution_count": 37,
   "metadata": {},
   "outputs": [
    {
     "name": "stdout",
     "output_type": "stream",
     "text": [
      "Hay 199 colonias\n"
     ]
    }
   ],
   "source": [
    "# Cantidad de colonias en el recorte de clasificación\n",
    "n_desired = 2\n",
    "\n",
    "# Determinación de area promedio\n",
    "area = len(df_desired[df_desired[\"label\"] == label])\n",
    "mean_area = area/n_desired\n",
    "\n",
    "if mean_area <= 0:\n",
    "    raise Exception(\"Ajustar la Binarización de la Colonia\")\n",
    "\n",
    "# Determinación de número de colonias\n",
    "n_colonies = len(df_petri[df_petri[\"labels\"] == label])/mean_area\n",
    "\n",
    "print(f\"Hay {math.ceil(n_colonies)} colonias\")"
   ]
  },
  {
   "cell_type": "code",
   "execution_count": 38,
   "metadata": {},
   "outputs": [
    {
     "ename": "NameError",
     "evalue": "name 'cluster_quantity' is not defined",
     "output_type": "error",
     "traceback": [
      "\u001b[0;31m---------------------------------------------------------------------------\u001b[0m",
      "\u001b[0;31mNameError\u001b[0m                                 Traceback (most recent call last)",
      "Cell \u001b[0;32mIn[38], line 1\u001b[0m\n\u001b[0;32m----> 1\u001b[0m ResultingList \u001b[39m=\u001b[39m [\u001b[39m0\u001b[39m]\u001b[39m*\u001b[39mcluster_quantity\n\u001b[1;32m      2\u001b[0m \u001b[39m#for i in range(0,cluster_quantity,1):\u001b[39;00m\n\u001b[1;32m      3\u001b[0m \u001b[39mfor\u001b[39;00m i \u001b[39min\u001b[39;00m \u001b[39mlist\u001b[39m(\u001b[39mrange\u001b[39m(cluster_quantity)):\n",
      "\u001b[0;31mNameError\u001b[0m: name 'cluster_quantity' is not defined"
     ]
    }
   ],
   "source": [
    "ResultingList = [0]*cluster_quantity\n",
    "#for i in range(0,cluster_quantity,1):\n",
    "for i in list(range(cluster_quantity)):\n",
    "    img = cv2.imread(\"Colonies\"+str(i)+\".png\", cv2.IMREAD_GRAYSCALE)\n",
    "    #img = cv2.imread(\"Colonies\"+\"1\"+\".png\", cv2.IMREAD_GRAYSCALE)\n",
    "    countx = 0\n",
    "    county = 0\n",
    "    #print(img[int(405/2)])\n",
    "    #print(img.shape)\n",
    "    #Pintar recuadro blanco\n",
    "    for k in list(range(0,img.shape[1]-1)):\n",
    "        if (img[int(img.shape[0]/2),k] == 255):\n",
    "            countx+=1\n",
    "        else: break\n",
    "    for j in list(range(0,img.shape[0]-1)):\n",
    "        if (img[j,int(img.shape[1]/2)] == 255):\n",
    "            county+=1\n",
    "        else: break\n",
    "\n",
    "    if countx <=10:\n",
    "        for m in list(range(0,img.shape[0]-1)):\n",
    "            img[m,:10] = 0\n",
    "            img[m,-10:] = 0\n",
    "        for n in list(range(0,img.shape[1]-1)):\n",
    "            img[:10,n] = 0\n",
    "            img[-10:,n] = 0\n",
    "    #print(img.shape)\n",
    "    #Invertir colores:\n",
    "    for r in list(range(0,img.shape[1]-1)):\n",
    "        for s in list(range(0,img.shape[0]-1)):\n",
    "            if (img[s,r] == 255):\n",
    "                img[s,r] = 0\n",
    "            else:\n",
    "                img[s,r] = 255\n",
    "\n",
    "\n",
    "\n",
    "    #cv2.imshow(\"1\",img)\n",
    "    #cv2.waitKey(0)\n",
    "    #cv2.destroyAllWindows()\n",
    "\n",
    "    seed_pt = (0, 0)\n",
    "    fill_color = 0\n",
    "    mask = np.zeros_like(img)\n",
    "    kernel = cv2.getStructuringElement(cv2.MORPH_RECT, (3, 3))\n",
    "    for th in range(60, 120):\n",
    "        prev_mask = mask.copy()\n",
    "        mask = cv2.threshold(img, th, 255, cv2.THRESH_BINARY)[1]\n",
    "        mask = cv2.floodFill(mask, None, seed_pt, fill_color)[1]\n",
    "        mask = cv2.bitwise_or(mask, prev_mask)\n",
    "        mask = cv2.morphologyEx(mask, cv2.MORPH_OPEN, kernel)\n",
    "        #mask = cv2.morphologyEx(mask, cv2.MORPH_CLOSE, kernel)\n",
    "    n_centers = cv2.connectedComponents(mask)[0] - 1\n",
    "    #n_centers = cv2.connectedComponentsWithAlgorithm(mask,8,cv2.CV_32S,0)[0] - 1\n",
    "    print(n_centers)\n",
    "    ResultingList[i] = n_centers \n",
    "ResultingList = sorted(ResultingList)\n",
    "\n",
    "\n",
    "print(ResultingList)\n",
    "#print('Hay %d colonias.'%ResultingList[int((cluster_quantity-1))])\n",
    "if cluster_quantity == 2:\n",
    "    print('Hay %d colonias.'%ResultingList[int((cluster_quantity-1))])\n",
    "else:\n",
    "    print('Hay %d colonias.'%ResultingList[int((cluster_quantity-1)/2)])\n",
    "\n",
    "#https://stackoverflow.com/questions/47566093/computer-vision-counting-small-circles-in-an-image"
   ]
  },
  {
   "cell_type": "code",
   "execution_count": null,
   "metadata": {},
   "outputs": [],
   "source": []
  }
 ],
 "metadata": {
  "colab": {
   "provenance": []
  },
  "kernelspec": {
   "display_name": "MLIP",
   "language": "python",
   "name": "python3"
  },
  "language_info": {
   "codemirror_mode": {
    "name": "ipython",
    "version": 3
   },
   "file_extension": ".py",
   "mimetype": "text/x-python",
   "name": "python",
   "nbconvert_exporter": "python",
   "pygments_lexer": "ipython3",
   "version": "3.10.6"
  },
  "vscode": {
   "interpreter": {
    "hash": "2ff2091a9de783146756d54d7fb06567464c30a0dfbdc37e2d987691ac7061ed"
   }
  }
 },
 "nbformat": 4,
 "nbformat_minor": 1
}
